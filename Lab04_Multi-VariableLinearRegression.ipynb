{
 "cells": [
  {
   "cell_type": "code",
   "execution_count": 1,
   "metadata": {},
   "outputs": [
    {
     "data": {
      "text/plain": [
       "'2.2.0'"
      ]
     },
     "execution_count": 1,
     "metadata": {},
     "output_type": "execute_result"
    }
   ],
   "source": [
    "import numpy as np\n",
    "\n",
    "import tensorflow as tf\n",
    "tf.__version__"
   ]
  },
  {
   "cell_type": "markdown",
   "metadata": {},
   "source": [
    "# Multi-variable Linear Regression\n",
    "\n",
    "* regression using multi inputs (x1, x2, x3, ... , xn)\n",
    "* 가설 : H(x1, x2, ..., xn) = w1x1 + w2x2 + ... + wnxn + b\n",
    "* using matrix -> H(X) = XW : (m X n) x (n X 1) = (m X 1) -> W's demension = n X 1\n",
    "---\n",
    "* WX : 이론적인 측면에서 사용한다. w가 계수이기 때문에 변수 x앞에 곱해주는 것\n",
    "* XW : 매트릭스 연산을 위해 사용한다."
   ]
  },
  {
   "cell_type": "code",
   "execution_count": 9,
   "metadata": {},
   "outputs": [
    {
     "name": "stdout",
     "output_type": "stream",
     "text": [
      "    0 |  144069.4219\n",
      "   50 |    1599.8792\n",
      "  100 |      19.0282\n",
      "  150 |       1.4845\n",
      "  200 |       1.2873\n",
      "  250 |       1.2825\n",
      "  300 |       1.2799\n",
      "  350 |       1.2773\n",
      "  400 |       1.2747\n",
      "  450 |       1.2721\n",
      "  500 |       1.2695\n",
      "  550 |       1.2669\n",
      "  600 |       1.2643\n",
      "  650 |       1.2618\n",
      "  700 |       1.2592\n",
      "  750 |       1.2566\n",
      "  800 |       1.2541\n",
      "  850 |       1.2515\n",
      "  900 |       1.2490\n",
      "  950 |       1.2465\n",
      " 1000 |       1.2440\n"
     ]
    }
   ],
   "source": [
    "## Before matrix\n",
    "\n",
    "# data and label\n",
    "x1 = [73., 93., 89., 96., 73.]\n",
    "x2 = [80., 88., 91., 98., 66.]\n",
    "x3 = [75., 93., 90., 100., 70.]\n",
    "y = [152., 185., 180., 196., 142.]\n",
    "\n",
    "# ramdom weights\n",
    "w1 = tf.Variable(tf.random.normal([1]))\n",
    "w2 = tf.Variable(tf.random.normal([1]))\n",
    "w3 = tf.Variable(tf.random.normal([1]))\n",
    "b = tf.Variable(tf.random.normal([1]))\n",
    "\n",
    "learning_rate = 0.000001\n",
    "\n",
    "for i in range(1000+1):\n",
    "    # tf.GradientTape() to record the gradient of the cost function\n",
    "    with tf.GradientTape() as tape:\n",
    "        hypothesis = w1*x1 + w2*x2 + w3*x3 + b\n",
    "        cost = tf.reduce_mean(tf.square(hypothesis - y))\n",
    "        \n",
    "    # calculates the gradients of the cost\n",
    "    w1_grad, w2_grad, w3_grad, b_grad = tape.gradient(cost, [w1, w2, w3, b])\n",
    "    \n",
    "    # update w1, w2, w3 and b\n",
    "    w1.assign_sub(learning_rate * w1_grad)\n",
    "    w2.assign_sub(learning_rate * w2_grad)\n",
    "    w3.assign_sub(learning_rate * w3_grad)\n",
    "    b.assign_sub(learning_rate * b_grad)\n",
    "    \n",
    "    if i % 50 == 0:\n",
    "        print(\"{:5} | {:12.4f}\".format(i, cost.numpy()))\n",
    "        \n",
    "# 보지 않고 혼자 다 짜서 뿌듯 ㅎ 주석만 가져와서 썼당~ㅎ"
   ]
  },
  {
   "cell_type": "code",
   "execution_count": 21,
   "metadata": {},
   "outputs": [
    {
     "name": "stdout",
     "output_type": "stream",
     "text": [
      "    0 |   44120.5664\n",
      "  100 |      11.8907\n",
      "  200 |       6.4374\n",
      "  300 |       6.4142\n",
      "  400 |       6.3918\n",
      "  500 |       6.3696\n",
      "  600 |       6.3474\n",
      "  700 |       6.3253\n",
      "  800 |       6.3032\n",
      "  900 |       6.2814\n",
      " 1000 |       6.2596\n",
      " 1100 |       6.2381\n",
      " 1200 |       6.2167\n",
      " 1300 |       6.1954\n",
      " 1400 |       6.1742\n",
      " 1500 |       6.1531\n",
      " 1600 |       6.1320\n",
      " 1700 |       6.1110\n",
      " 1800 |       6.0900\n",
      " 1900 |       6.0693\n",
      " 2000 |       6.0486\n"
     ]
    }
   ],
   "source": [
    "## using Matrix\n",
    "\n",
    "# data\n",
    "data = np.array([\n",
    "    [73, 80, 75, 152],\n",
    "    [93, 88, 93, 185],\n",
    "    [89, 91, 90, 180],\n",
    "    [96, 98, 100, 196],\n",
    "    [73, 66, 70, 142]\n",
    "], dtype = np.float32)\n",
    "\n",
    "# slice data\n",
    "X = data[:, :-1]\n",
    "y = data[:, [-1]]   # 2차원 배열로 맞춰주기 위해\n",
    "\n",
    "# weights\n",
    "W = tf.Variable(tf.random.normal([3, 1]))\n",
    "b = tf.Variable(tf.random.normal([1]))\n",
    "\n",
    "learning_rate = 0.000001\n",
    "\n",
    "# hypothesis, prodiction function\n",
    "def predict(X):\n",
    "    return tf.matmul(X, W) + b      # matmul : dot product\n",
    "                                    # multiply : 원소끼리의 곱\n",
    "    \n",
    "n_epochs = 2000\n",
    "for i in range(n_epochs+1):\n",
    "    # record the gradient of the cost function\n",
    "    with tf.GradientTape() as tape:\n",
    "        cost = tf.reduce_mean(tf.square(predict(X) - y))\n",
    "        \n",
    "    # calculates the gradients of the cost\n",
    "    W_grad, b_grad = tape.gradient(cost, [W, b])\n",
    "    \n",
    "    # update W and b\n",
    "    W.assign_sub(learning_rate * W_grad)\n",
    "    b.assign_sub(learning_rate * b_grad)\n",
    "    \n",
    "    if i % 100 == 0:\n",
    "        print(\"{:5} | {:12.4f}\".format(i, cost.numpy()))\n",
    "        \n",
    "        \n",
    "# 코드가 많이 간결해짐 역시 matrix 연산 짱짱!"
   ]
  }
 ],
 "metadata": {
  "kernelspec": {
   "display_name": "Python 3",
   "language": "python",
   "name": "python3"
  },
  "language_info": {
   "codemirror_mode": {
    "name": "ipython",
    "version": 3
   },
   "file_extension": ".py",
   "mimetype": "text/x-python",
   "name": "python",
   "nbconvert_exporter": "python",
   "pygments_lexer": "ipython3",
   "version": "3.7.6"
  }
 },
 "nbformat": 4,
 "nbformat_minor": 4
}
