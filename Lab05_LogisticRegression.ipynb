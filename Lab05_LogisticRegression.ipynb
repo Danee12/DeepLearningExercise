{
 "cells": [
  {
   "cell_type": "code",
   "execution_count": 1,
   "metadata": {},
   "outputs": [
    {
     "name": "stdout",
     "output_type": "stream",
     "text": [
      "2.2.0\n"
     ]
    }
   ],
   "source": [
    "import tensorflow as tf\n",
    "print(tf.__version__)\n"
   ]
  },
  {
   "cell_type": "markdown",
   "metadata": {},
   "source": [
    "# Logistic Regression"
   ]
  },
  {
   "cell_type": "markdown",
   "metadata": {},
   "source": [
    "### What is Logistic Regression?\n",
    "1. Binary(Mulit-class) Classification\n",
    "    - variable is either 0 or 1 (0 : positive, 1 : negative) <br>\n",
    "      -> To start with machine learning, I must encode variable [0, 1]\n",
    "      \n",
    "2. Logistic vs Linear<br>\n",
    "    - Logistic : target is Discrete(Counted), One Hot\n",
    "    - Linear : target is Continous(Measured), Numeric\n",
    "    \n",
    "---\n",
    "\n",
    "### How to solve?\n",
    "1. Hypothesis Representation<br>\n",
    "By start with binary classification, Y is only 0 or 1.\n",
    "So we need new function<br>\n",
    "=> Sigmoid function<br><br>\n",
    "\n",
    "2. Sigmoid/Logistic Function<br>\n",
    "X -> Linear Function -> Logistic Fucntion(Sigmoid) -> Decision Boundary -> Y is 0 or 1<br><br>\n",
    "\n",
    "3. Decision Boundary<br>\n",
    "If prediction >= 0.5, prediction == 1<br>\n",
    "If prediction < 0.5, prediction == 0<br><br>\n",
    "\n",
    "4. Cost Function <br>"
   ]
  },
  {
   "cell_type": "code",
   "execution_count": 2,
   "metadata": {},
   "outputs": [],
   "source": [
    "x_train = [[1., 2.],\n",
    "          [2., 3.],\n",
    "          [3., 1.],\n",
    "          [4., 3.],\n",
    "          [5., 3.],\n",
    "          [6., 2.]]\n",
    "\n",
    "y_train = [[0.],\n",
    "          [0.],\n",
    "          [0.],\n",
    "          [1.],\n",
    "          [1.],\n",
    "          [1.]]\n",
    "\n",
    "x_test = [[5., 2.]]\n",
    "y_test = [[1.]]"
   ]
  },
  {
   "cell_type": "code",
   "execution_count": 12,
   "metadata": {
    "scrolled": true
   },
   "outputs": [
    {
     "name": "stdout",
     "output_type": "stream",
     "text": [
      "Iter : 0, Loss : 0.5197\n",
      "Iter : 100, Loss : 0.3497\n",
      "Iter : 200, Loss : 0.3387\n",
      "Iter : 300, Loss : 0.3319\n",
      "Iter : 400, Loss : 0.3273\n",
      "Iter : 500, Loss : 0.3237\n",
      "Iter : 600, Loss : 0.3208\n",
      "Iter : 700, Loss : 0.3182\n",
      "Iter : 800, Loss : 0.3159\n",
      "Iter : 900, Loss : 0.3137\n",
      "Iter : 1000, Loss : 0.3117\n"
     ]
    }
   ],
   "source": [
    "tf.compat.v1.enable_eager_execution()\n",
    "\n",
    "# data 준비\n",
    "dataset = tf.data.Dataset.from_tensor_slices((x_train, y_train)).batch(len(x_train))\n",
    "\n",
    "# 가중치 준비\n",
    "W = tf.Variable(tf.zeros([2, 1]), name = \"weight\")\n",
    "b = tf.Variable(tf.zeros([1]), name = \"bias\")\n",
    "\n",
    "# 로지스틱 회귀 식\n",
    "def logistic_regression(features):\n",
    "    hypothesis = tf.divide(1., 1. + tf.exp(tf.matmul(features, W) + b))\n",
    "    return hypothesis\n",
    "\n",
    "# 손실 함수 == 비용 함수\n",
    "def loss_fn(hypothesis, features, labels):\n",
    "    cost = -tf.reduce_mean(labels + tf.math.log(logistic_regression(features)) + (1 - labels)*tf.math.log(1-hypothesis))\n",
    "            # tensorflow 1 에선 그냥 tf.log()\n",
    "            # tensorflow 2 에선 tf.math.log()\n",
    "    return cost\n",
    "\n",
    "# 최적화\n",
    "optimizer = tf.keras.optimizers.SGD(learning_rate=0.01)\n",
    "# Gradient Descent 구현\n",
    "def grad(features, labels):\n",
    "    with tf.GradientTape() as tape:\n",
    "        loss_value = loss_fn(logistic_regression(features), features, labels)\n",
    "    return tape.gradient(loss_value, [W, b])\n",
    "\n",
    "# 학습\n",
    "EPOCHS = 1001\n",
    "\n",
    "for step in range(EPOCHS):\n",
    "    for features, labels in iter(dataset):   # 객체를 하나씩 하나씩 차례대로 불러오는 것\n",
    "        grads = grad(features, labels)\n",
    "        optimizer.apply_gradients(grads_and_vars = zip(grads, [W,b]))\n",
    "        if step % 100 == 0:\n",
    "            print(\"Iter : {}, Loss : {:.4f}\".format(step, loss_fn(logistic_regression(features), features, labels)))"
   ]
  },
  {
   "cell_type": "code",
   "execution_count": 14,
   "metadata": {},
   "outputs": [
    {
     "name": "stdout",
     "output_type": "stream",
     "text": [
      "TestSet Accuracy : 1.0000\n"
     ]
    }
   ],
   "source": [
    "# 정확도 계산\n",
    "def accuracy_fn(hypothesis, labels):\n",
    "    predicted = tf.cast(hypothesis > 0.5, dtype = tf.float32)\n",
    "    accuracy = tf.reduce_mean(tf.cast(tf.equal(predicted, labels), dtype = tf.float32))\n",
    "    return accuracy\n",
    "\n",
    "test_acc = accuracy_fn(logistic_regression(x_test), y_test)\n",
    "print(\"TestSet Accuracy : {:.4f}\".format(test_acc))"
   ]
  },
  {
   "cell_type": "code",
   "execution_count": null,
   "metadata": {},
   "outputs": [],
   "source": []
  }
 ],
 "metadata": {
  "kernelspec": {
   "display_name": "Python 3",
   "language": "python",
   "name": "python3"
  },
  "language_info": {
   "codemirror_mode": {
    "name": "ipython",
    "version": 3
   },
   "file_extension": ".py",
   "mimetype": "text/x-python",
   "name": "python",
   "nbconvert_exporter": "python",
   "pygments_lexer": "ipython3",
   "version": "3.7.6"
  }
 },
 "nbformat": 4,
 "nbformat_minor": 4
}
